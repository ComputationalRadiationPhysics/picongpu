{
 "cells": [
  {
   "cell_type": "markdown",
   "metadata": {},
   "source": [
    "# Define a PWFA driver bunch and add it to a PIConGPU simulation"
   ]
  },
  {
   "cell_type": "markdown",
   "metadata": {},
   "source": [
    "## Intro\n",
    "\n",
    "This notebook allows you to define a simple PWFA driver bunch using numpy.\n",
    "Each step will be explained on the way.\n",
    "In the end, the particles (of the driver bunch) will be added to an empty **openPMD-api** checkpoint in **bp** format.\n",
    "This serves as an example on how to use the checkpoint edit tool.\n",
    "\n",
    "**!!! The copying of checkpoints can take up a lot of memory, so enough should be reserved beforehand. `.bp5` should be given as file ending for the written checkpoint. This will enable openPMD to only hold the currently written field in memory instead of cumulating all data of the checkpoint until the end. Big simulations may still run into memory issues, as single fields may contain over 50 GB of data. `copyRNG=False` can be used to skip one such field by not copying RNG values from the source checkpoint !!!**"
   ]
  },
  {
   "cell_type": "markdown",
   "metadata": {},
   "source": [
    "## load modules"
   ]
  },
  {
   "cell_type": "code",
   "execution_count": null,
   "metadata": {},
   "outputs": [],
   "source": [
    "# standard modules\n",
    "import numpy as np\n",
    "from scipy import constants"
   ]
  },
  {
   "cell_type": "code",
   "execution_count": null,
   "metadata": {},
   "outputs": [],
   "source": [
    "# own modules from script\n",
    "\n",
    "from bunchInit_openPMD_bp import vec3D\n",
    "from bunchInit_openPMD_bp import addParticles2Checkpoint"
   ]
  },
  {
   "cell_type": "markdown",
   "metadata": {},
   "source": [
    "## Generate a electron bunch at a known location\n",
    "For our L|PWFA setups, we usually assume that the driver bunch of the 2nd stage/PWFA stage - which originate as witness bunch from the first stage/LWFA stage - is Gaussian/uncorrelated when exiting the LWFA stage and thus easy to define."
   ]
  },
  {
   "cell_type": "markdown",
   "metadata": {},
   "source": [
    "### define bunch parameters"
   ]
  },
  {
   "cell_type": "code",
   "execution_count": null,
   "metadata": {},
   "outputs": [],
   "source": [
    "# set these values\n",
    "\n",
    "Q = 400e-12  # define total charge of driver in [C]\n",
    "radius_LWFA_exit_rms = 1.0e-6 * 10.0  # rms radius of bunch in [m]\n",
    "tau_FWHM = 20.0e-15  # FWHM duration of bunch in [s]\n",
    "E_kin_mean = 250.0e6  # mean energy in [eV]\n",
    "E_kin_FWHM = 10.0e6  # energy spread in [eV]\n",
    "theta_sigma = 1.6e-3  # standard deviation of divergence in [rad]\n",
    "mean_weight = 50000  # define a constant weight for all macro-particles"
   ]
  },
  {
   "cell_type": "code",
   "execution_count": null,
   "metadata": {},
   "outputs": [],
   "source": [
    "# compute relevant quantities\n",
    "\n",
    "# number of macro particles:\n",
    "N = int(Q / constants.elementary_charge / mean_weight)\n",
    "\n",
    "# convert rms to std of radius\n",
    "sigma_LWFA_exit = radius_LWFA_exit_rms / np.sqrt(2)\n",
    "\n",
    "# monte carlo: transversal position\n",
    "x = np.random.normal(scale=sigma_LWFA_exit, size=N)\n",
    "z = np.random.normal(scale=sigma_LWFA_exit, size=N)\n",
    "\n",
    "# constant conversion_factor, equals 2*sqrt(2*ln(2))\n",
    "const_FWHM_to_sigma = 2.35482004503\n",
    "\n",
    "# convert FWHM to std of duration\n",
    "sigma_y = tau_FWHM * constants.c / const_FWHM_to_sigma\n",
    "\n",
    "# monte-carlo longitudinal distribution\n",
    "y = np.random.normal(scale=sigma_y, size=N)\n",
    "\n",
    "# monte-carlo energy distribution\n",
    "E_kin = np.random.normal(loc=E_kin_mean, scale=E_kin_FWHM / const_FWHM_to_sigma, size=N)\n",
    "\n",
    "# monte-carlo azimutal angle\n",
    "theta = np.random.normal(loc=0.0, scale=theta_sigma * np.sqrt(2), size=N)\n",
    "# monte-carlo polar angle (uniform distribution)\n",
    "phi = np.random.uniform(low=-np.pi, high=+np.pi, size=N)\n",
    "\n",
    "# convert kinetic energy to absolute momentum\n",
    "convert_Ekin_to_momentum = (E_kin * constants.elementary_charge) / constants.c * mean_weight\n",
    "# distribute to direction\n",
    "px = np.sin(phi) * np.sin(theta) * convert_Ekin_to_momentum\n",
    "py = 1.0 * np.cos(theta) * convert_Ekin_to_momentum\n",
    "pz = np.cos(phi) * np.sin(theta) * convert_Ekin_to_momentum"
   ]
  },
  {
   "cell_type": "markdown",
   "metadata": {},
   "source": [
    "## Getting particles into the PIC code\n",
    "\n",
    "In this section, we will prepare the particle distribution to go into the empty checkpoint of PIConGPU."
   ]
  },
  {
   "cell_type": "markdown",
   "metadata": {},
   "source": [
    "### Parameters from the actual simulation\n",
    "Get the resolution of the PIConGPU simulation. These parameters can be found in `include/picongpu/param/simulation.param` and the `*.cfg` file you are using."
   ]
  },
  {
   "cell_type": "code",
   "execution_count": null,
   "metadata": {},
   "outputs": [],
   "source": [
    "# set parameters\n",
    "delta_x = 0.1772e-6  # [m]\n",
    "delta_y = delta_x  # [m]\n",
    "delta_z = delta_x  # [m]"
   ]
  },
  {
   "cell_type": "code",
   "execution_count": null,
   "metadata": {},
   "outputs": [],
   "source": [
    "# set distribution to GPUs\n",
    "cells = (512, 1024, 512)"
   ]
  },
  {
   "cell_type": "markdown",
   "metadata": {
    "tags": []
   },
   "source": [
    "### place particles inside simulation box\n",
    "So far, we used a simple coordinate system. Now, we have to decide were to place the center (mean position) of the bunch inside our simulation box. \n"
   ]
  },
  {
   "cell_type": "code",
   "execution_count": null,
   "metadata": {},
   "outputs": [],
   "source": [
    "# define center position\n",
    "center_pos_x = delta_x * cells[0] / 2.0\n",
    "center_pos_y = delta_y * cells[1] * 2.4 / 4.0\n",
    "center_pos_z = delta_z * cells[2] / 2.0"
   ]
  },
  {
   "cell_type": "code",
   "execution_count": null,
   "metadata": {},
   "outputs": [],
   "source": [
    "# make weighting an array (all macro-particle have the same weighting)\n",
    "weighting = np.ones(N) * mean_weight\n",
    "\n",
    "# shift particles to new center position\n",
    "x_PIConGPU = x + center_pos_x\n",
    "y_PIConGPU = y + center_pos_y\n",
    "z_PIConGPU = z + center_pos_z"
   ]
  },
  {
   "cell_type": "markdown",
   "metadata": {
    "tags": []
   },
   "source": [
    "### convert data and write to checkpoint"
   ]
  },
  {
   "cell_type": "code",
   "execution_count": null,
   "metadata": {},
   "outputs": [],
   "source": [
    "# convert data to 3d vector object\n",
    "pos = vec3D(x_PIConGPU, y_PIConGPU, z_PIConGPU)\n",
    "mom = vec3D(px / mean_weight, py / mean_weight, pz / mean_weight)"
   ]
  },
  {
   "cell_type": "code",
   "execution_count": null,
   "metadata": {},
   "outputs": [],
   "source": [
    "# assign to (existing) checkpoint file\n",
    "# replace with your own paths and species name (from speciesDefinition.param of the input simulation)\n",
    "# copyRNG can be used to skip the copying of the RNG values\n",
    "checkPoint_b = addParticles2Checkpoint(\n",
    "    \"<path_to_source_checkpoint>/checkpoint_%T.bp5\",\n",
    "    \"<path_to_destination_checkpoint>/checkpoint_%06T.bp5\",\n",
    "    speciesName=\"b\",\n",
    "    copyRNG=True,\n",
    "    verbose=False,\n",
    ")\n",
    "\n",
    "# this will throw an error if particles of speciesName are already in the checkpoint - make sure you use an empty checkpoint as source\n",
    "# the output checkpoint should have the file endling bp5, else the entire checkpoint will be held in memory, which might crash the kernel"
   ]
  },
  {
   "cell_type": "code",
   "execution_count": null,
   "metadata": {},
   "outputs": [],
   "source": [
    "# write data to file\n",
    "checkPoint_b.addParticles(pos, mom, weighting)\n",
    "checkPoint_b.writeParticles()\n",
    "\n",
    "# delete data we wrote\n",
    "del checkPoint_b"
   ]
  }
 ],
 "metadata": {
  "kernelspec": {
   "display_name": "Python 3 (ipykernel)",
   "language": "python",
   "name": "python3"
  },
  "language_info": {
   "codemirror_mode": {
    "name": "ipython",
    "version": 3
   },
   "file_extension": ".py",
   "mimetype": "text/x-python",
   "name": "python",
   "nbconvert_exporter": "python",
   "pygments_lexer": "ipython3",
   "version": "3.11.9"
  }
 },
 "nbformat": 4,
 "nbformat_minor": 4
}
