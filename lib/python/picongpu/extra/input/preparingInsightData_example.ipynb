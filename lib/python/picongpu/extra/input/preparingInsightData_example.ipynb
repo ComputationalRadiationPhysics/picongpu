{
 "cells": [
  {
   "cell_type": "markdown",
   "id": "d25194cb-4633-4cfd-ab12-faa10f9926bc",
   "metadata": {},
   "source": [
    "# Preparing Insight data for PIConGPU\n",
    "\n",
    "## Intro\n",
    "This notebook allows you to manipulate Insight data and prepare it to be read via the InsightPulse profile into PIconGPU.\n",
    "The raw Insight data cannot be used, since it (at least) has to be phase corrected and transformed into the time domain. \n",
    "Furthermore, the field can be propagated.\n",
    "\n",
    "## Load modules"
   ]
  },
  {
   "cell_type": "code",
   "execution_count": null,
   "id": "8f20b708-32b3-416e-b3d6-018884281b8c",
   "metadata": {},
   "outputs": [],
   "source": [
    "# standard modules\n",
    "import numpy as np\n",
    "import matplotlib.pyplot as plt\n",
    "\n",
    "# modules from preparingInsightData.py\n",
    "from preparingInsightData import preproutines"
   ]
  },
  {
   "cell_type": "markdown",
   "id": "6e06caf1-30ea-46f9-90c9-4d691dccf127",
   "metadata": {},
   "source": [
    "## Get the data\n",
    "The far field data from an Insight measurement is stored in a h5 file and typically measured in dependence of two transversal coordinates (\"x\" and \"y\" in mm) and the frequency (\"w\" in rad/fs). If there are any deviations from this scheme, you will have to adjust the _preproutines_ source code. \n",
    "\n",
    "Then, the first steps are:\n",
    "1. read the far field data and store it in numpy arrays\n",
    "2. fit the far field data intensity with a 2D gaussian to extract the beam center and waist size\n",
    "3. propagate to the near field\n",
    "4. fit the near field data with a 2D supergaussian to extract the beam center and waist size\n",
    "\n",
    "For that, we provide path, filename and focal distance (same unit as the transversal scales) to the init funcion."
   ]
  },
  {
   "cell_type": "code",
   "execution_count": null,
   "id": "df9bc30d-c03b-4cb4-9621-b2aa62142f6a",
   "metadata": {},
   "outputs": [],
   "source": [
    "insight = preproutines(\"/put/your/path/here/\", \"filename.h5\", 2000)"
   ]
  },
  {
   "cell_type": "code",
   "execution_count": null,
   "id": "2c7db135-e858-4152-9ec6-1d0358180f43",
   "metadata": {},
   "outputs": [],
   "source": [
    "# some nice colorful pictures of our data\n",
    "fig = plt.figure(figsize=(14, 8))\n",
    "\n",
    "ax1 = fig.add_subplot(231)\n",
    "ax1.imshow(\n",
    "    np.sum(np.abs(insight.Ew), axis=-1),\n",
    "    cmap=\"cubehelix\",\n",
    "    origin=\"lower\",\n",
    "    extent=(insight.x[0], insight.x[-1], insight.y[0], insight.y[-1]),\n",
    ")\n",
    "ax1.set_title(\"spectral integrated amplitude, far field\")\n",
    "ax1.set_xlabel(\"x [mm]\")\n",
    "ax1.set_ylabel(\"y [mm]\")\n",
    "ax1.set_xlim(-0.2, 0.2)\n",
    "ax1.set_ylim(-0.2, 0.2)\n",
    "\n",
    "ax2 = fig.add_subplot(232)\n",
    "ax2.imshow(\n",
    "    np.sum(np.abs(insight.Ew_NF), axis=-1),\n",
    "    cmap=\"cubehelix\",\n",
    "    origin=\"lower\",\n",
    "    extent=(insight.x_NF[0], insight.x_NF[-1], insight.y_NF[0], insight.y_NF[-1]),\n",
    ")\n",
    "ax2.set_title(\"spectral integrated amplitude, near field\")\n",
    "ax2.set_xlabel(\"x [mm]\")\n",
    "ax2.set_ylabel(\"y [mm]\")\n",
    "ax2.set_xlim(-100, 100)\n",
    "ax2.set_ylim(-100, 100)\n",
    "\n",
    "ax3 = fig.add_subplot(233)\n",
    "ax3.plot(\n",
    "    insight.w,\n",
    "    np.angle(\n",
    "        insight.Ew_NF[np.abs(insight.y_NF - insight.yc_NF).argmin(), np.abs(insight.x_NF - insight.xc_NF).argmin(), :]\n",
    "    ),\n",
    ")\n",
    "ax3.set_title(\"phase in near field beam center\")\n",
    "ax3.set_xlabel(r\"$\\omega$ [rad/fs]\")\n",
    "ax3.set_ylabel(\"rad/fs\")\n",
    "\n",
    "ax4 = fig.add_subplot(234)\n",
    "ax4.imshow(\n",
    "    np.sum(np.abs(insight.Ew), axis=0),\n",
    "    cmap=\"cubehelix\",\n",
    "    origin=\"lower\",\n",
    "    aspect=\"auto\",\n",
    "    extent=(insight.w[0], insight.w[-1], insight.x[0], insight.x[-1]),\n",
    ")\n",
    "ax4.set_title(r\"SD$_x$ in focus\")\n",
    "ax4.set_ylabel(\"x [mm]\")\n",
    "ax4.set_xlabel(r\"$\\omega$ [rad/fs]\")\n",
    "ax4.set_ylim(-0.2, 0.2)\n",
    "\n",
    "ax5 = fig.add_subplot(235)\n",
    "ax5.imshow(\n",
    "    np.sum(np.abs(insight.Ew), axis=1),\n",
    "    cmap=\"cubehelix\",\n",
    "    origin=\"lower\",\n",
    "    aspect=\"auto\",\n",
    "    extent=(insight.w[0], insight.w[-1], insight.x[0], insight.x[-1]),\n",
    ")\n",
    "ax5.set_title(r\"SD$_y$ in focus\")\n",
    "ax5.set_xlabel(r\"$\\omega$ [rad/fs]\")\n",
    "ax5.set_ylabel(\"y [mm]\")\n",
    "ax5.set_ylim(-0.2, 0.2)\n",
    "\n",
    "ax6 = fig.add_subplot(236)\n",
    "# sum just over the main beam spot to extract the spectrum\n",
    "ax6.plot(\n",
    "    insight.w,\n",
    "    np.sum(\n",
    "        np.sum(\n",
    "            np.abs(\n",
    "                insight.Ew[\n",
    "                    np.abs(insight.y - insight.yc + 2 * insight.waist).argmin() : np.abs(\n",
    "                        insight.y - insight.yc - 2 * insight.waist\n",
    "                    ).argmin(),\n",
    "                    np.abs(insight.x - insight.xc + 2 * insight.waist).argmin() : np.abs(\n",
    "                        insight.x - insight.xc - 2 * insight.waist\n",
    "                    ).argmin(),\n",
    "                    :,\n",
    "                ]\n",
    "            )\n",
    "            ** 2,\n",
    "            axis=0,\n",
    "        ),\n",
    "        axis=0,\n",
    "    ),\n",
    ")\n",
    "ax6.set_title(\"spectral intensity\")\n",
    "ax6.set_xlabel(r\"$\\omega$ [rad/fs]\")\n",
    "\n",
    "plt.subplots_adjust(hspace=0.3, wspace=0.3)\n",
    "plt.show()"
   ]
  },
  {
   "cell_type": "markdown",
   "id": "18bee9ee-bd16-4e28-b9a7-ac5bc12e112e",
   "metadata": {},
   "source": [
    "## Correct the data\n",
    "### Adjust beam compression and add dispersion parameters\n",
    "Before we go on with any calculations, we have to correct the phase. Insight reconstructs the amplitude of the far field beam aswell as the phase, up to a unknown global phase for every frequency.\n",
    "For an estimation of this global phase, we assume perfect compression in the (near field) beam center. Thus, we extract the phase in the beam center in dependence of the frequency and substract this function globally (i.e. from the measured phase in dependence of the frequency at every space point).\n",
    "Here, we also have the possibility to add dispersion parameters such as group velocity dispersion (GVD) and third order dispersion (TOD) (both are set to 0 by default)."
   ]
  },
  {
   "cell_type": "code",
   "execution_count": null,
   "id": "db7ee493-ac2f-4c62-9121-70d270587ae5",
   "metadata": {},
   "outputs": [],
   "source": [
    "insight.correctPhase()"
   ]
  },
  {
   "cell_type": "code",
   "execution_count": null,
   "id": "fe86408e-4e08-4f9a-8044-b0dfc989d408",
   "metadata": {},
   "outputs": [],
   "source": [
    "plt.plot(\n",
    "    insight.w,\n",
    "    np.angle(\n",
    "        insight.Ew_NF[np.abs(insight.y_NF - insight.yc_NF).argmin(), np.abs(insight.x_NF - insight.xc_NF).argmin(), :]\n",
    "    ),\n",
    ")\n",
    "plt.title(\"corrected phase in near field beam center\")\n",
    "plt.xlabel(r\"$\\omega$ [rad/fs]\")\n",
    "plt.ylabel(\"rad/fs\")\n",
    "plt.show()"
   ]
  },
  {
   "cell_type": "markdown",
   "id": "11125a32-e618-40b4-aa4b-e1e51def5c3e",
   "metadata": {},
   "source": [
    "### Correct ugly spots in the near field (optional)\n",
    "Sometimes, the amplitude in the near field looks weird, showing some (unphysical) peaks or holes. These can cause artefacts in the far field and will thus be smoothened out."
   ]
  },
  {
   "cell_type": "code",
   "execution_count": null,
   "id": "0c772bfd-2d6b-4206-8dbd-f574d50d3931",
   "metadata": {},
   "outputs": [],
   "source": [
    "insight.correctUglySpotInNF(0.0, 0.0)  # x-coordinate, y-coordinate of ugly spot"
   ]
  },
  {
   "cell_type": "code",
   "execution_count": null,
   "id": "2ab764a7-979d-417f-bae4-15f19ca790e8",
   "metadata": {},
   "outputs": [],
   "source": [
    "fig = plt.figure(figsize=(10, 4))\n",
    "\n",
    "ax1 = fig.add_subplot(121)\n",
    "ax1.imshow(\n",
    "    np.sum(np.abs(insight.Ew), axis=-1),\n",
    "    cmap=\"cubehelix\",\n",
    "    origin=\"lower\",\n",
    "    extent=(insight.x[0], insight.x[-1], insight.y[0], insight.y[-1]),\n",
    ")\n",
    "ax1.set_title(\"spectral integrated amplitude, far field\")\n",
    "ax1.set_xlabel(\"x [mm]\")\n",
    "ax1.set_ylabel(\"y [mm]\")\n",
    "ax1.set_xlim(-0.2, 0.2)\n",
    "ax1.set_ylim(-0.2, 0.2)\n",
    "\n",
    "ax2 = fig.add_subplot(122)\n",
    "ax2.imshow(\n",
    "    np.sum(np.abs(insight.Ew_NF), axis=-1),\n",
    "    cmap=\"cubehelix\",\n",
    "    origin=\"lower\",\n",
    "    extent=(insight.x_NF[0], insight.x_NF[-1], insight.y_NF[0], insight.y_NF[-1]),\n",
    ")\n",
    "ax2.set_title(\"spectral integrated amplitude, near field\")\n",
    "ax2.set_xlabel(\"x [mm]\")\n",
    "ax2.set_ylabel(\"y [mm]\")\n",
    "ax2.set_xlim(-100, 100)\n",
    "ax2.set_ylim(-100, 100)\n",
    "\n",
    "plt.show()"
   ]
  },
  {
   "cell_type": "markdown",
   "id": "d63c3650-d902-4d71-8bbf-60a8c3b8bca6",
   "metadata": {},
   "source": [
    "### Center the near field beam spot (optional)\n",
    "When the near field beam spot is not centered (please check the center coordinates above), the far field will propagate obliquely instead of straight ahead. Centering the near field prevents this."
   ]
  },
  {
   "cell_type": "code",
   "execution_count": null,
   "id": "b88a2410-f9ca-4ff9-ab1b-3954c38b90b5",
   "metadata": {},
   "outputs": [],
   "source": [
    "insight.shiftNFtoCenter()"
   ]
  },
  {
   "cell_type": "code",
   "execution_count": null,
   "id": "cfbe99d5-97b1-44b6-879c-ed97e3eae945",
   "metadata": {},
   "outputs": [],
   "source": [
    "fig = plt.figure(figsize=(14, 4))\n",
    "\n",
    "ax1 = fig.add_subplot(131)\n",
    "ax1.imshow(\n",
    "    np.sum(np.abs(insight.Ew), axis=-1),\n",
    "    cmap=\"cubehelix\",\n",
    "    origin=\"lower\",\n",
    "    extent=(insight.x[0], insight.x[-1], insight.y[0], insight.y[-1]),\n",
    ")\n",
    "ax1.set_title(\"spectral integrated amplitude, far field\")\n",
    "ax1.set_xlabel(\"x [mm]\")\n",
    "ax1.set_ylabel(\"y [mm]\")\n",
    "ax1.set_xlim(-0.2, 0.2)\n",
    "ax1.set_ylim(-0.2, 0.2)\n",
    "\n",
    "ax2 = fig.add_subplot(132)\n",
    "ax2.imshow(\n",
    "    np.sum(np.abs(insight.Ew_NF), axis=-1),\n",
    "    cmap=\"cubehelix\",\n",
    "    origin=\"lower\",\n",
    "    extent=(insight.x_NF[0], insight.x_NF[-1], insight.y_NF[0], insight.y_NF[-1]),\n",
    ")\n",
    "ax2.set_title(\"spectral integrated amplitude, near field\")\n",
    "ax2.set_xlabel(\"x [mm]\")\n",
    "ax2.set_ylabel(\"y [mm]\")\n",
    "ax2.set_xlim(-100, 100)\n",
    "ax2.set_ylim(-100, 100)\n",
    "plt.show()"
   ]
  },
  {
   "cell_type": "markdown",
   "id": "9988b6e5-f3e4-4395-a1ff-4159ede3b4cd",
   "metadata": {},
   "source": [
    "## Propagate\n",
    "Now the far field data is ready to be propagated. For that, the angular spectrum method is used. \n",
    "Watch out not to propagate too far, since then the growing beam diameter could reach the transversal window borders and thus cause fourier transform artefacts."
   ]
  },
  {
   "cell_type": "code",
   "execution_count": null,
   "id": "3db3f073-cf90-48f8-a3e7-8bc220c390a2",
   "metadata": {},
   "outputs": [],
   "source": [
    "z = -2  # mm\n",
    "Ew_prop = insight.propagate(z)"
   ]
  },
  {
   "cell_type": "code",
   "execution_count": null,
   "id": "c6ff5e59-4b93-41ec-b8a2-68d28a0f26d6",
   "metadata": {},
   "outputs": [],
   "source": [
    "plt.imshow(\n",
    "    np.sum(np.abs(Ew_prop), axis=-1),\n",
    "    cmap=\"cubehelix\",\n",
    "    origin=\"lower\",\n",
    "    extent=(insight.x[0], insight.x[-1], insight.y[0], insight.y[-1]),\n",
    ")\n",
    "plt.title(\"spectral integrated amplitude, propagated to %.2f mm\" % (z))\n",
    "plt.xlabel(\"x [mm]\")\n",
    "plt.ylabel(\"y [mm]\")\n",
    "# plt.xlim(-.2, .2)\n",
    "# plt.ylim(-.2, .2)\n",
    "plt.show()"
   ]
  },
  {
   "cell_type": "markdown",
   "id": "9bfb7cc2-0327-43fb-8364-0dbcc62e0553",
   "metadata": {},
   "source": [
    "## Transform to the time domain\n",
    "The far field data will be transformed to the time domain via a 1D fourier transformation. This takes a while, since the spectrum has to be extended and the field data extrapolated. One can adjust the number of samples per wavelength, which is set to 10 by default."
   ]
  },
  {
   "cell_type": "code",
   "execution_count": null,
   "id": "f44373f9-d947-41d8-8e21-2eafe7584de8",
   "metadata": {},
   "outputs": [],
   "source": [
    "insight.toTimeDomain(Ew_prop)"
   ]
  },
  {
   "cell_type": "code",
   "execution_count": null,
   "id": "268a89c7-4334-4906-ad16-c4536a128617",
   "metadata": {},
   "outputs": [],
   "source": [
    "fig = plt.figure(figsize=(7, 7))\n",
    "\n",
    "ax1 = fig.add_subplot(211)\n",
    "ax1.imshow(\n",
    "    np.sum(np.abs(insight.Et), axis=0),\n",
    "    cmap=\"cubehelix\",\n",
    "    origin=\"lower\",\n",
    "    aspect=\"auto\",\n",
    "    extent=(insight.t[0], insight.t[-1], insight.x[0], insight.x[-1]),\n",
    ")\n",
    "ax1.set_ylabel(\"x [mm]\")\n",
    "ax1.set_xlim(-100, 100)\n",
    "ax1.set_ylim(-0.2, 0.2)\n",
    "\n",
    "ax2 = fig.add_subplot(212)\n",
    "ax2.imshow(\n",
    "    np.sum(np.abs(insight.Et), axis=1),\n",
    "    cmap=\"cubehelix\",\n",
    "    origin=\"lower\",\n",
    "    aspect=\"auto\",\n",
    "    extent=(insight.t[0], insight.t[-1], insight.x[0], insight.x[-1]),\n",
    ")\n",
    "ax2.set_xlabel(\"t [fs]\")\n",
    "ax2.set_ylabel(\"y [mm]\")\n",
    "ax2.set_xlim(-100, 100)\n",
    "ax2.set_ylim(-0.2, 0.2)\n",
    "\n",
    "plt.show()"
   ]
  },
  {
   "cell_type": "markdown",
   "id": "8b5e94b1-d37e-4639-ad5c-8990206df22e",
   "metadata": {},
   "source": [
    "## Save data to OpenPMD\n",
    "The data is now nearly ready te be used as InsightPulse input. We still have to correct the amplitude of the pulse in the time domain (= scaling it to the actual beam energy, given in Joule) and save it to an OpenPMD checkpoint. Furthermore, the field data chunk may still be too big: the whole chunk will be stored on the GPUs afterwards, but their memory is limited.\n",
    "The following function corrects the amplitude by scaling to the actual beam enregy and allows cropping the borders of the field data chunk before saving it at the provided destination path."
   ]
  },
  {
   "cell_type": "code",
   "execution_count": null,
   "id": "5018ef1c-2696-4981-b25f-7565a3faaea6",
   "metadata": {
    "scrolled": true
   },
   "outputs": [],
   "source": [
    "insight.saveToOpenPMD(\"\", \"insightData_300um%T.h5\", energy=4.5, crop_x=0.3, crop_y=0.3, crop_t=100)"
   ]
  },
  {
   "cell_type": "code",
   "execution_count": null,
   "id": "b45022ea-d79a-4ef2-b615-9ca74833e31e",
   "metadata": {},
   "outputs": [],
   "source": []
  }
 ],
 "metadata": {
  "kernelspec": {
   "display_name": "Python 3 (ipykernel)",
   "language": "python",
   "name": "python3"
  },
  "language_info": {
   "codemirror_mode": {
    "name": "ipython",
    "version": 3
   },
   "file_extension": ".py",
   "mimetype": "text/x-python",
   "name": "python",
   "nbconvert_exporter": "python",
   "pygments_lexer": "ipython3",
   "version": "3.12.4"
  }
 },
 "nbformat": 4,
 "nbformat_minor": 5
}
