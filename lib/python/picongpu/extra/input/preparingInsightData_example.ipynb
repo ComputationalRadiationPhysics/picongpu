{
 "cells": [
  {
   "cell_type": "markdown",
   "id": "d25194cb-4633-4cfd-ab12-faa10f9926bc",
   "metadata": {},
   "source": [
    "This file is part of PIConGPU. \\\n",
    "Copyright 2024 Fabia Dietrich\n",
    "\n",
    "# Preparing Insight data for PIConGPU\n",
    "\n",
    "## Intro\n",
    "This notebook allows you to manipulate Insight data and prepare it to be read via the InsightPulse profile into PIconGPU.\n",
    "The raw Insight data cannot be used, since it (at least) has to be phase corrected and transformed into the time domain. \n",
    "Furthermore, the field can be propagated.\n",
    "\n",
    "## Load modules"
   ]
  },
  {
   "cell_type": "code",
   "execution_count": null,
   "id": "8f20b708-32b3-416e-b3d6-018884281b8c",
   "metadata": {},
   "outputs": [],
   "source": [
    "# standard modules\n",
    "import numpy as np\n",
    "import matplotlib.pyplot as plt\n",
    "\n",
    "# modules from preparingInsightData.py\n",
    "from preparingInsightData import PrepRoutines"
   ]
  },
  {
   "cell_type": "markdown",
   "id": "6e06caf1-30ea-46f9-90c9-4d691dccf127",
   "metadata": {},
   "source": [
    "## Get the data\n",
    "The far field data from an Insight measurement is stored in a h5 file and typically measured in dependence of two transversal coordinates (\"x\" and \"y\" in mm) and the frequency (\"w\" in rad/fs). If there are any deviations from this scheme, you will have to adjust the _PrepRoutines_ source code. \n",
    "\n",
    "Then, the first steps are:\n",
    "1. read the far field data and store it in numpy arrays\n",
    "2. fit the far field data intensity with a 2D gaussian to extract the beam center and waist size\n",
    "3. propagate to the near field\n",
    "4. fit the near field data with a 2D supergaussian to extract the beam center and waist size\n",
    "\n",
    "For that, you need to provide path, filename and focal distance (same unit as the transversal scales) to the init function."
   ]
  },
  {
   "cell_type": "code",
   "execution_count": null,
   "id": "df9bc30d-c03b-4cb4-9621-b2aa62142f6a",
   "metadata": {},
   "outputs": [],
   "source": [
    "foc = 2000  # mm, focal distance\n",
    "insight = PrepRoutines(\"/put/your/path/here/\", \"filename.h5\", foc)"
   ]
  },
  {
   "cell_type": "code",
   "execution_count": null,
   "id": "2c7db135-e858-4152-9ec6-1d0358180f43",
   "metadata": {},
   "outputs": [],
   "source": [
    "# some nice colorful pictures of your data\n",
    "fig = plt.figure(figsize=(14, 8))\n",
    "\n",
    "ax1 = fig.add_subplot(231)\n",
    "ax1.imshow(\n",
    "    np.sum(np.abs(insight.Ew), axis=-1),\n",
    "    cmap=\"cubehelix\",\n",
    "    origin=\"lower\",\n",
    "    extent=(insight.x[0], insight.x[-1], insight.y[0], insight.y[-1]),\n",
    ")\n",
    "ax1.set_title(\"spectrally integrated amplitude, far field\")\n",
    "ax1.set_xlabel(\"x [mm]\")\n",
    "ax1.set_ylabel(\"y [mm]\")\n",
    "\n",
    "ax2 = fig.add_subplot(232)\n",
    "ax2.imshow(\n",
    "    np.sum(np.abs(insight.Ew_NF), axis=-1),\n",
    "    cmap=\"cubehelix\",\n",
    "    origin=\"lower\",\n",
    "    extent=(insight.x_NF[0], insight.x_NF[-1], insight.y_NF[0], insight.y_NF[-1]),\n",
    ")\n",
    "ax2.set_title(\"spectrally integrated amplitude, near field\")\n",
    "ax2.set_xlabel(\"x [mm]\")\n",
    "ax2.set_ylabel(\"y [mm]\")\n",
    "\n",
    "ax3 = fig.add_subplot(233)\n",
    "ax3.plot(\n",
    "    insight.w,\n",
    "    np.angle(\n",
    "        insight.Ew_NF[np.abs(insight.y_NF - insight.yc_NF).argmin(), np.abs(insight.x_NF - insight.xc_NF).argmin(), :]\n",
    "    ),\n",
    ")\n",
    "ax3.set_title(\"phase in near field beam center\")\n",
    "ax3.set_xlabel(r\"$\\omega$ [rad/fs]\")\n",
    "ax3.set_ylabel(\"rad\")\n",
    "\n",
    "ax4 = fig.add_subplot(234)\n",
    "ax4.imshow(\n",
    "    np.sum(np.abs(insight.Ew), axis=0),\n",
    "    cmap=\"cubehelix\",\n",
    "    origin=\"lower\",\n",
    "    aspect=\"auto\",\n",
    "    extent=(insight.w[0], insight.w[-1], insight.x[0], insight.x[-1]),\n",
    ")\n",
    "ax4.set_title(r\"SD$_x$ in focus\")\n",
    "ax4.set_ylabel(\"x [mm]\")\n",
    "ax4.set_xlabel(r\"$\\omega$ [rad/fs]\")\n",
    "\n",
    "ax5 = fig.add_subplot(235)\n",
    "ax5.imshow(\n",
    "    np.sum(np.abs(insight.Ew), axis=1),\n",
    "    cmap=\"cubehelix\",\n",
    "    origin=\"lower\",\n",
    "    aspect=\"auto\",\n",
    "    extent=(insight.w[0], insight.w[-1], insight.x[0], insight.x[-1]),\n",
    ")\n",
    "ax5.set_title(r\"SD$_y$ in focus\")\n",
    "ax5.set_xlabel(r\"$\\omega$ [rad/fs]\")\n",
    "ax5.set_ylabel(\"y [mm]\")\n",
    "\n",
    "ax6 = fig.add_subplot(236)\n",
    "# sum just over the main beam spot to extract the spectrum\n",
    "ax6.plot(\n",
    "    insight.w,\n",
    "    np.sum(\n",
    "        np.sum(\n",
    "            np.abs(\n",
    "                insight.Ew[\n",
    "                    np.abs(insight.y - insight.yc + 2 * insight.waist).argmin() : np.abs(\n",
    "                        insight.y - insight.yc - 2 * insight.waist\n",
    "                    ).argmin(),\n",
    "                    np.abs(insight.x - insight.xc + 2 * insight.waist).argmin() : np.abs(\n",
    "                        insight.x - insight.xc - 2 * insight.waist\n",
    "                    ).argmin(),\n",
    "                    :,\n",
    "                ]\n",
    "            )\n",
    "            ** 2,\n",
    "            axis=0,\n",
    "        ),\n",
    "        axis=0,\n",
    "    ),\n",
    ")\n",
    "ax6.set_title(\"spectral intensity\")\n",
    "ax6.set_xlabel(r\"$\\omega$ [rad/fs]\")\n",
    "ax6.set_ylabel(\"arb. units\")\n",
    "\n",
    "plt.subplots_adjust(hspace=0.3, wspace=0.3)\n",
    "plt.show()"
   ]
  },
  {
   "cell_type": "markdown",
   "id": "18bee9ee-bd16-4e28-b9a7-ac5bc12e112e",
   "metadata": {},
   "source": [
    "## Correct the data\n",
    "### Adjust beam compression and add dispersion parameters\n",
    "Before going on with any calculations, the phase has to be corrected. Insight reconstructs the amplitude of the far field beam aswell as the phase, up to an unknown global phase for every frequency.\n",
    "For an estimation of this global phase, perfect compression is assumed in the (near field) beam center. Thus, the phase is extracted in the beam center in dependence of the frequency and substracted globally (i.e. from the measured phase in dependence of the frequency at every space point).\n",
    "Here, one also has the possibility to add dispersion parameters such as group velocity dispersion (`GVD`) and third order dispersion (`TOD`) (both are set to 0 by default)."
   ]
  },
  {
   "cell_type": "code",
   "execution_count": null,
   "id": "db7ee493-ac2f-4c62-9121-70d270587ae5",
   "metadata": {},
   "outputs": [],
   "source": [
    "insight.correct_phase()"
   ]
  },
  {
   "cell_type": "code",
   "execution_count": null,
   "id": "fe86408e-4e08-4f9a-8044-b0dfc989d408",
   "metadata": {},
   "outputs": [],
   "source": [
    "plt.plot(\n",
    "    insight.w,\n",
    "    np.angle(\n",
    "        insight.Ew_NF[np.abs(insight.y_NF - insight.yc_NF).argmin(), np.abs(insight.x_NF - insight.xc_NF).argmin(), :]\n",
    "    ),\n",
    ")\n",
    "plt.title(\"corrected phase in near field beam center\")\n",
    "plt.xlabel(r\"$\\omega$ [rad/fs]\")\n",
    "plt.ylabel(\"rad\")\n",
    "plt.show()"
   ]
  },
  {
   "cell_type": "markdown",
   "id": "11125a32-e618-40b4-aa4b-e1e51def5c3e",
   "metadata": {},
   "source": [
    "### Correct ugly spots in the near field (optional)\n",
    "Sometimes, the amplitude in the near field looks weird, showing some (unphysical) peaks or holes. These can cause artifacts in the far field and will thus be smoothened out."
   ]
  },
  {
   "cell_type": "code",
   "execution_count": null,
   "id": "0c772bfd-2d6b-4206-8dbd-f574d50d3931",
   "metadata": {},
   "outputs": [],
   "source": [
    "ugly_x = 0.0  # mm\n",
    "ugly_y = 0.0  # mm\n",
    "insight.correct_ugly_spot_in_nf(ugly_x, ugly_y)"
   ]
  },
  {
   "cell_type": "code",
   "execution_count": null,
   "id": "2ab764a7-979d-417f-bae4-15f19ca790e8",
   "metadata": {},
   "outputs": [],
   "source": [
    "fig = plt.figure(figsize=(10, 4))\n",
    "\n",
    "ax1 = fig.add_subplot(121)\n",
    "ax1.imshow(\n",
    "    np.sum(np.abs(insight.Ew), axis=-1),\n",
    "    cmap=\"cubehelix\",\n",
    "    origin=\"lower\",\n",
    "    extent=(insight.x[0], insight.x[-1], insight.y[0], insight.y[-1]),\n",
    ")\n",
    "ax1.set_title(\"spectrally integrated amplitude, far field\")\n",
    "ax1.set_xlabel(\"x [mm]\")\n",
    "ax1.set_ylabel(\"y [mm]\")\n",
    "\n",
    "ax2 = fig.add_subplot(122)\n",
    "ax2.imshow(\n",
    "    np.sum(np.abs(insight.Ew_NF), axis=-1),\n",
    "    cmap=\"cubehelix\",\n",
    "    origin=\"lower\",\n",
    "    extent=(insight.x_NF[0], insight.x_NF[-1], insight.y_NF[0], insight.y_NF[-1]),\n",
    ")\n",
    "ax2.set_title(\"spectrally integrated amplitude, near field\")\n",
    "ax2.set_xlabel(\"x [mm]\")\n",
    "ax2.set_ylabel(\"y [mm]\")\n",
    "\n",
    "plt.show()"
   ]
  },
  {
   "cell_type": "markdown",
   "id": "d63c3650-d902-4d71-8bbf-60a8c3b8bca6",
   "metadata": {},
   "source": [
    "### Center the near field beam spot (optional)\n",
    "When the near field beam spot is not centered (please check the center coordinates above), the far field will propagate obliquely instead of straight ahead. Centering the near field prevents this."
   ]
  },
  {
   "cell_type": "code",
   "execution_count": null,
   "id": "b88a2410-f9ca-4ff9-ab1b-3954c38b90b5",
   "metadata": {},
   "outputs": [],
   "source": [
    "insight.shift_nf_to_center()"
   ]
  },
  {
   "cell_type": "code",
   "execution_count": null,
   "id": "cfbe99d5-97b1-44b6-879c-ed97e3eae945",
   "metadata": {},
   "outputs": [],
   "source": [
    "fig = plt.figure(figsize=(14, 4))\n",
    "\n",
    "ax1 = fig.add_subplot(131)\n",
    "ax1.imshow(\n",
    "    np.sum(np.abs(insight.Ew), axis=-1),\n",
    "    cmap=\"cubehelix\",\n",
    "    origin=\"lower\",\n",
    "    extent=(insight.x[0], insight.x[-1], insight.y[0], insight.y[-1]),\n",
    ")\n",
    "ax1.set_title(\"spectrally integrated amplitude, far field\")\n",
    "ax1.set_xlabel(\"x [mm]\")\n",
    "ax1.set_ylabel(\"y [mm]\")\n",
    "\n",
    "ax2 = fig.add_subplot(132)\n",
    "ax2.imshow(\n",
    "    np.sum(np.abs(insight.Ew_NF), axis=-1),\n",
    "    cmap=\"cubehelix\",\n",
    "    origin=\"lower\",\n",
    "    extent=(insight.x_NF[0], insight.x_NF[-1], insight.y_NF[0], insight.y_NF[-1]),\n",
    ")\n",
    "ax2.set_title(\"spectrally integrated amplitude, near field\")\n",
    "ax2.set_xlabel(\"x [mm]\")\n",
    "ax2.set_ylabel(\"y [mm]\")\n",
    "plt.show()"
   ]
  },
  {
   "cell_type": "markdown",
   "id": "8f6942a0-43a0-4b55-92fa-a7d6ceb9a59a",
   "metadata": {},
   "source": [
    "## Measure dispersion parameters\n",
    "You can measure angular dispersion and spatial dispersion in far- and near field.\n",
    "For a consistency check of those values, you can check those relations: \n",
    "\\begin{equation}\n",
    "\\begin{aligned}\n",
    "AD_{FF} &= - SD_{NF} / f - AD_{NF} \\\\\n",
    "SD_{FF} &= f \\cdot AD_{NF}\n",
    "\\end{aligned}\n",
    "\\end{equation}\n",
    "$f$ is the focal length."
   ]
  },
  {
   "cell_type": "code",
   "execution_count": null,
   "id": "ae6d2380-f5c3-4ec4-8918-23ca0fbb6ce2",
   "metadata": {},
   "outputs": [],
   "source": [
    "insight.measure_ad_in_nf()\n",
    "insight.measure_ad_in_ff()\n",
    "insight.measure_sd_in_nf()\n",
    "insight.measure_sd_in_ff()"
   ]
  },
  {
   "cell_type": "markdown",
   "id": "6d645f08-4e8d-40ba-af73-533fdd9aa8cb",
   "metadata": {},
   "source": [
    "## Add an aperture in the mid field (optional)\n",
    "Here, you can apply an aperture to the beam, located in the mid field. The algorithm which propagates the beam to the mid field uses paraxial approximation; so please make sure to put the aperture not too close to the focal plane. "
   ]
  },
  {
   "cell_type": "code",
   "execution_count": null,
   "id": "fb07e460-f729-46a9-8e28-d32e968968ed",
   "metadata": {},
   "outputs": [],
   "source": [
    "d = 1000  # mm, distance from focal plane to aperture\n",
    "R = 38.5 / 2  # mm, aperture radius\n",
    "insight.aperture_in_mf(d, R)"
   ]
  },
  {
   "cell_type": "code",
   "execution_count": null,
   "id": "87430869-9a85-47b9-8127-fbea86f7bbdf",
   "metadata": {},
   "outputs": [],
   "source": [
    "fig = plt.figure()\n",
    "ax1 = fig.add_subplot(111)\n",
    "ax1.imshow(\n",
    "    np.sum(np.abs(insight.Ew), axis=-1),\n",
    "    cmap=\"cubehelix\",\n",
    "    origin=\"lower\",\n",
    "    extent=(insight.x[0], insight.x[-1], insight.y[0], insight.y[-1]),\n",
    ")\n",
    "ax1.set_title(\"spectrally integrated amplitude, far field\")\n",
    "ax1.set_xlabel(\"x [mm]\")\n",
    "ax1.set_ylabel(\"y [mm]\")\n",
    "plt.show()"
   ]
  },
  {
   "cell_type": "markdown",
   "id": "9988b6e5-f3e4-4395-a1ff-4159ede3b4cd",
   "metadata": {},
   "source": [
    "## Propagate\n",
    "Now the far field data is ready to be propagated. For that, the angular spectrum method is used. \n",
    "Watch out not to propagate too far, since then the growing beam diameter could reach the transversal window borders and thus cause fourier transform artifacts."
   ]
  },
  {
   "cell_type": "code",
   "execution_count": null,
   "id": "3db3f073-cf90-48f8-a3e7-8bc220c390a2",
   "metadata": {},
   "outputs": [],
   "source": [
    "z = -2  # mm\n",
    "Ew_prop = insight.propagate(z)"
   ]
  },
  {
   "cell_type": "code",
   "execution_count": null,
   "id": "c6ff5e59-4b93-41ec-b8a2-68d28a0f26d6",
   "metadata": {},
   "outputs": [],
   "source": [
    "plt.imshow(\n",
    "    np.sum(np.abs(Ew_prop), axis=-1),\n",
    "    cmap=\"cubehelix\",\n",
    "    origin=\"lower\",\n",
    "    extent=(insight.x[0], insight.x[-1], insight.y[0], insight.y[-1]),\n",
    ")\n",
    "plt.title(\"spectrally integrated amplitude, propagated to %.2f mm\" % (z))\n",
    "plt.xlabel(\"x [mm]\")\n",
    "plt.ylabel(\"y [mm]\")\n",
    "plt.show()"
   ]
  },
  {
   "cell_type": "markdown",
   "id": "9bfb7cc2-0327-43fb-8364-0dbcc62e0553",
   "metadata": {},
   "source": [
    "## Transform to the time domain\n",
    "The far field data will be transformed to the time domain via a 1D fourier transformation. This takes a while, since the spectrum has to be extended and the field data extrapolated. One can adjust the number of samples per wavelength, which is set to 10 by default. \\\n",
    "**Attention:** it is recommeded to adjust the time sampling to the PIConGPU simulation timestep! \\\n",
    "The real part of the resulting complex matrix `insight.Et` will be the field needed for PIConGPU and its absolute value is the envelope, which can be used for further analysis."
   ]
  },
  {
   "cell_type": "code",
   "execution_count": null,
   "id": "f44373f9-d947-41d8-8e21-2eafe7584de8",
   "metadata": {},
   "outputs": [],
   "source": [
    "insight.to_time_domain(Ew_prop)"
   ]
  },
  {
   "cell_type": "code",
   "execution_count": null,
   "id": "268a89c7-4334-4906-ad16-c4536a128617",
   "metadata": {},
   "outputs": [],
   "source": [
    "fig = plt.figure(figsize=(6, 9))\n",
    "\n",
    "ax1 = fig.add_subplot(311)\n",
    "ax1.imshow(\n",
    "    np.sum(np.abs(insight.Et), axis=0),\n",
    "    cmap=\"cubehelix\",\n",
    "    origin=\"lower\",\n",
    "    aspect=\"auto\",\n",
    "    extent=(insight.t[0], insight.t[-1], insight.x[0], insight.x[-1]),\n",
    ")\n",
    "ax1.set_ylabel(\"x [mm]\")\n",
    "ax1.set_title(\"transversally integrated field\")\n",
    "\n",
    "ax2 = fig.add_subplot(312)\n",
    "ax2.imshow(\n",
    "    np.sum(np.abs(insight.Et), axis=1),\n",
    "    cmap=\"cubehelix\",\n",
    "    origin=\"lower\",\n",
    "    aspect=\"auto\",\n",
    "    extent=(insight.t[0], insight.t[-1], insight.x[0], insight.x[-1]),\n",
    ")\n",
    "ax2.set_ylabel(\"y [mm]\")\n",
    "\n",
    "ax3 = fig.add_subplot(313)\n",
    "Et_center = insight.Et[np.abs(insight.y - insight.yc).argmin(), np.abs(insight.x - insight.xc).argmin(), :]\n",
    "ax3.plot(insight.t, np.real(Et_center), label=\"real part\")\n",
    "ax3.plot(insight.t, np.abs(Et_center), label=\"envelope\")\n",
    "ax3.set_xlabel(\"t [fs]\")\n",
    "ax3.set_ylabel(\"field strength [arb. units]\")\n",
    "ax3.set_title(\"field in beam center\")\n",
    "plt.legend()\n",
    "\n",
    "plt.subplots_adjust(hspace=0.25)\n",
    "plt.show()"
   ]
  },
  {
   "cell_type": "markdown",
   "id": "8b5e94b1-d37e-4639-ad5c-8990206df22e",
   "metadata": {},
   "source": [
    "## Save data to openPMD\n",
    "The data is now nearly ready te be used as FromOpenPMDPulse input. The amplitude of the pulse in the time domain still has to be corrected (= scaled to the actual beam energy in Joule) before saving it to an openPMD file at the provided destination path.\n",
    "Please pay attention to the size of the field data chunk: its real part will be stored on each used GPU as a whole, but their memory is limited. To reduce the chunk size, one can trim the edges by `crop_x`, `crop_y` (in mm) and `crop_t` (in fs)."
   ]
  },
  {
   "cell_type": "code",
   "execution_count": null,
   "id": "5018ef1c-2696-4981-b25f-7565a3faaea6",
   "metadata": {
    "scrolled": true
   },
   "outputs": [],
   "source": [
    "E = 4.5  # J, beam energy\n",
    "pol = \"x\"  # polarisation axis (can be 'x' or 'y')\n",
    "crop_x = 0.3  # mm, trim transversal x axis\n",
    "crop_y = 0.3  # mm, trim transversal y axis\n",
    "crop_t = 100  # fs, trim time axis\n",
    "\n",
    "insight.save_to_openPMD(\"\", \"insightData_prepared%T.h5\", E, pol, crop_x, crop_y, crop_t)"
   ]
  },
  {
   "cell_type": "code",
   "execution_count": null,
   "id": "b45022ea-d79a-4ef2-b615-9ca74833e31e",
   "metadata": {},
   "outputs": [],
   "source": []
  }
 ],
 "metadata": {
  "kernelspec": {
   "display_name": "Python 3 (ipykernel)",
   "language": "python",
   "name": "python3"
  },
  "language_info": {
   "codemirror_mode": {
    "name": "ipython",
    "version": 3
   },
   "file_extension": ".py",
   "mimetype": "text/x-python",
   "name": "python",
   "nbconvert_exporter": "python",
   "pygments_lexer": "ipython3",
   "version": "3.12.5"
  }
 },
 "nbformat": 4,
 "nbformat_minor": 5
}
