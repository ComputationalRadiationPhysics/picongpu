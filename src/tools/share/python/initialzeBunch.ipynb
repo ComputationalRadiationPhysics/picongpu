{
 "cells": [
  {
   "cell_type": "code",
   "execution_count": null,
   "metadata": {
    "collapsed": false
   },
   "outputs": [],
   "source": [
    "import numpy as np\n",
    "import matplotlib.pyplot as plt\n",
    "from scipy import constants\n",
    "%matplotlib inline\n",
    "\n",
    "import sys"
   ]
  },
  {
   "cell_type": "code",
   "execution_count": null,
   "metadata": {
    "collapsed": false
   },
   "outputs": [],
   "source": [
    "sys.path.append(\"./modules4picongpu/\")\n",
    "\n",
    "from bunchInit import vec3D\n",
    "from bunchInit import addParticles2Checkpoint"
   ]
  },
  {
   "cell_type": "markdown",
   "metadata": {},
   "source": [
    "# Set up the parameters for the electron bunch"
   ]
  },
  {
   "cell_type": "code",
   "execution_count": null,
   "metadata": {
    "collapsed": false
   },
   "outputs": [],
   "source": [
    "# define values\n",
    "\n",
    "# grid values\n",
    "delta_t = 1.6674254e-17\n",
    "delta_x = 8.120995783129748e-8 * 4.0\n",
    "delta_y = 5.0e-9\n",
    "\n",
    "# number of cells\n",
    "N_cellss = (512, 3840, 512)\n",
    "\n",
    "# iterations till PIConGPU has inialized the fields\n",
    "N_init_timesteps = 200000\n",
    "\n",
    "# characteristic parameters of the electron bunch\n",
    "mean_kinetic_energy = 15.0e6 # [eV]\n",
    "norm_trans_emmitt_notSI = 0.5 # [mm mrad]\n",
    "rel_energy_spread = 0.008\n",
    "focus_position = 5.66e-3 + N_init_timesteps * delta_t * constants.speed_of_light # m\n",
    "bunch_cross_section_radius = 7.0e-6 # m (rms)\n",
    "bunch_duration = 17.5e-15 # s (rms)\n",
    "bunch_charge = 35.0e-12 # C\n"
   ]
  },
  {
   "cell_type": "code",
   "execution_count": null,
   "metadata": {
    "collapsed": true
   },
   "outputs": [],
   "source": [
    "# compute position in simulation box\n",
    "center_pos_x = delta_x * N_cells[0]/2.\n",
    "center_pos_z = delta_x * N_cells[2]/2.\n",
    "y_center = 5.5e-6 + focus_position\n",
    "\n",
    "# number of macro particles in simulation\n",
    "N_particles = np.int(bunch_charge / (100.*constants.elementary_charge) )\n"
   ]
  },
  {
   "cell_type": "code",
   "execution_count": null,
   "metadata": {
    "collapsed": false
   },
   "outputs": [],
   "source": [
    "# define helper functions\n",
    "\n",
    "def gammaFromEkin_eV(Ekin_eV):\n",
    "    Ekin_J = Ekin_eV * constants.elementary_charge\n",
    "    return Ekin_J/(constants.electron_mass * constants.speed_of_light**2) +1\n",
    "\n",
    "def betaFromGamma(gamma):\n",
    "    return np.sqrt(1.0 - 1.0/gamma**2)\n",
    "\n",
    "def momentumFromGammaBeta(gamma, beta):\n",
    "    return constants.electron_mass * constants.speed_of_light * beta * gamma\n"
   ]
  },
  {
   "cell_type": "code",
   "execution_count": null,
   "metadata": {
    "collapsed": false
   },
   "outputs": [],
   "source": [
    "# derive values of electron bunch\n",
    "\n",
    "# longitudinal\n",
    "norm_trans_emmitt =  norm_trans_emmitt_notSI *1.e-3 * 1e-3 # m rad\n",
    "t_delay = - focus_position / constants.speed_of_light\n",
    "\n",
    "mean_gamma = gammaFromEkin_eV(mean_kinetic_energy)\n",
    "mean_beta = betaFromGamma(mean_gamma)\n",
    "\n",
    "# transversal\n",
    "sigma_x = bunch_cross_section_radius\n",
    "sigma_z = bunch_cross_section_radius\n",
    "\n",
    "sigma_xp = norm_trans_emmitt / (mean_beta * mean_gamma * sigma_x)\n",
    "sigma_zp = norm_trans_emmitt / (mean_beta * mean_gamma * sigma_z)\n",
    "\n",
    "print(\"mean gamma = {:.2f}\".format(mean_gamma))"
   ]
  },
  {
   "cell_type": "code",
   "execution_count": null,
   "metadata": {
    "collapsed": false
   },
   "outputs": [],
   "source": [
    "# initialize bunch\n",
    "\n",
    "# weighting\n",
    "weighting = np.ones(N_particles) * bunch_charge/(N_particles*constants.elementary_charge)\n",
    "\n",
    "# distribution in bunch focus position (no coralation between momenta und positions)\n",
    "focus_x = np.random.normal(loc=center_pos_x, scale=sigma_x, size=N_particles + N_particles//4)\n",
    "focus_z = np.random.normal(loc=center_pos_z, scale=sigma_z, size=N_particles + N_particles//4)\n",
    "\n",
    "focus_xp = np.random.normal(loc=0.0, scale=sigma_xp, size=N_particles + N_particles//4)\n",
    "focus_zp = np.random.normal(loc=0.0, scale=sigma_zp, size=N_particles + N_particles//4)\n",
    "\n",
    "focus_t = np.random.normal(loc=0.0, scale=bunch_duration, size=N_particles + N_particles//4)\n",
    "\n",
    "gamma = np.random.normal(loc=mean_gamma, scale=rel_energy_spread*mean_gamma, size=N_particles + N_particles//4)\n",
    "beta = betaFromGamma(gamma)\n",
    "\n",
    "# filer: allow only particles within the 2*sigma region\n",
    "my_filter = np.less(np.sqrt((((focus_x - center_pos_x)/sigma_xp)**2 + \n",
    "                             ((focus_z - center_pos_z)/sigma_xp)**2) +\n",
    "                             (focus_t/bunch_duration)**2\n",
    "                           ),\n",
    "                   2.0 )\n",
    "\n",
    "# derive beta\n",
    "beta_x = focus_xp * beta\n",
    "beta_z = focus_zp * beta\n",
    "beta_y = np.sqrt(beta**2 - beta_x**2 - beta_z**2)\n",
    "\n",
    "# generate momentum for checkpoint\n",
    "p_x = (momentumFromGammaBeta(gamma, beta_x)[my_filter])[:N_particles]\n",
    "p_y = (momentumFromGammaBeta(gamma, beta_y)[my_filter])[:N_particles]\n",
    "p_z = (momentumFromGammaBeta(gamma, beta_z)[my_filter])[:N_particles]\n",
    "\n",
    "# generate position for checkpoint\n",
    "x = ((focus_x + t_delay * constants.speed_of_light * beta_x)[my_filter])[:N_particles]\n",
    "z = ((focus_z + t_delay * constants.speed_of_light * beta_z)[my_filter])[:N_particles]\n",
    "y = ((y_center + focus_t * constants.speed_of_light + t_delay * constants.speed_of_light * beta_y)[my_filter])[:N_particles]\n",
    "\n"
   ]
  },
  {
   "cell_type": "code",
   "execution_count": null,
   "metadata": {
    "collapsed": false,
    "scrolled": true
   },
   "outputs": [],
   "source": [
    "# plot spatial particle position\n",
    "\n",
    "plt.title(\"x position\")\n",
    "TMP = plt.hist(x, bins=128)\n",
    "plt.show()\n",
    "\n",
    "plt.title(\"z position\")\n",
    "TMP = plt.hist(z, bins=128)\n",
    "plt.show()\n",
    "\n",
    "plt.title(\"y position\")\n",
    "TMP = plt.hist(y, bins=128)\n",
    "plt.show()\n"
   ]
  },
  {
   "cell_type": "code",
   "execution_count": null,
   "metadata": {
    "collapsed": false
   },
   "outputs": [],
   "source": [
    "# convert to vec3D objects\n",
    "\n",
    "pos = vec3D(x,y,z)\n",
    "mom = vec3D(p_x, p_y, p_z)"
   ]
  },
  {
   "cell_type": "markdown",
   "metadata": {},
   "source": [
    "# Manipulate PIConGPU checkpoint for field generation\n",
    "\n",
    "Add the particles to a PIConGPU checkpoint without electromagnetic fields.\n",
    "\n",
    " - Generate a PIConGPU simulation with the same extend as the final simulation, without particles in `./runs/bunch_init`.\n",
    " - Use the `particles::pusher::Free` pusher for the (not yet existing) particles.\n",
    " - Run this simulation for one iteration to generate a 0th check point. \n",
    " - Add particles with the code below to this check point.\n",
    " - Run the simulation for ~200000 iterations\n",
    "\n",
    "\n",
    "\n",
    "Runing PIConGPU  using the `particles::pusher::Free` pusher the particles are not effected by missing or wrong electromagetic fields.\n",
    "Due to their current deposition, the fields around the bunch are created and approche the correct fields distribution with more and more iterations of the PIC cycle.\n",
    "\n",
    "After the initalization simulation is finished, the particle and field distribution can be used for manupulationg the chekpoint of a PIConGPU simulation using a physically correct pusher (`particles::pusher::Free`, `particles::pusher::Boris`, ...)\n",
    "\n"
   ]
  },
  {
   "cell_type": "code",
   "execution_count": null,
   "metadata": {
    "collapsed": false
   },
   "outputs": [],
   "source": [
    "checkPoint = addParticles2Checkpoint(\"./runs/bunch_init/simOutput/checkpoints/checkpoint_0.h5\")"
   ]
  },
  {
   "cell_type": "code",
   "execution_count": null,
   "metadata": {
    "collapsed": false
   },
   "outputs": [],
   "source": [
    "checkPoint.addParticles(pos, mom, weighting)\n",
    "\n",
    "checkPoint.writeParticles()"
   ]
  },
  {
   "cell_type": "markdown",
   "metadata": {},
   "source": [
    "Now **run the PIConGPU simulation** in `./runs/bunch_init`"
   ]
  },
  {
   "cell_type": "markdown",
   "metadata": {},
   "source": [
    "# Manipulate PIConGPU checkpoint for final simulation\n",
    "\n",
    "Add the previously computed particle and field distribution to the final simulation.\n",
    "\n",
    " - Generate a PIConGPU simulation without particles in `/runs/real_simulation`\n",
    " - Use a physically correct pusher for the bunch particles.\n",
    " - Run this simulation for one iteration to generate a 0th check point. \n",
    " - copy checkpoint from hdf5 data output\n",
    " - run simulation"
   ]
  },
  {
   "cell_type": "code",
   "execution_count": null,
   "metadata": {
    "collapsed": false
   },
   "outputs": [],
   "source": [
    "checkPoint = addParticles2Checkpoint(\"./runs/real_simulation/simOutput/checkpoints/checkpoint_0.h5\")"
   ]
  },
  {
   "cell_type": "code",
   "execution_count": null,
   "metadata": {
    "collapsed": false
   },
   "outputs": [],
   "source": [
    "checkPoint.copyCheckpoint(\"./runs/bunch_init/simOutput/h5/simData_200000.h5\")"
   ]
  },
  {
   "cell_type": "markdown",
   "metadata": {
    "collapsed": true
   },
   "source": [
    "Now **run the PIConGPU simulation** in `./runs/real_simulation`"
   ]
  },
  {
   "cell_type": "code",
   "execution_count": null,
   "metadata": {
    "collapsed": true
   },
   "outputs": [],
   "source": []
  }
 ],
 "metadata": {
  "kernelspec": {
   "display_name": "Python 3",
   "language": "python",
   "name": "python3"
  },
  "language_info": {
   "codemirror_mode": {
    "name": "ipython",
    "version": 3
   },
   "file_extension": ".py",
   "mimetype": "text/x-python",
   "name": "python",
   "nbconvert_exporter": "python",
   "pygments_lexer": "ipython3",
   "version": "3.4.3"
  }
 },
 "nbformat": 4,
 "nbformat_minor": 2
}
