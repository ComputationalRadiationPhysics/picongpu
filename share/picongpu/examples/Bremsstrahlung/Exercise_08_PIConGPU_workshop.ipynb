{
 "cells": [
  {
   "cell_type": "code",
   "execution_count": null,
   "metadata": {
    "collapsed": true
   },
   "outputs": [],
   "source": [
    "import sys\n",
    "sys.path.append(\"/bigdata/hplsim/external/software/picongpu/workshop/lib/python/\")"
   ]
  },
  {
   "cell_type": "code",
   "execution_count": null,
   "metadata": {
    "collapsed": false
   },
   "outputs": [],
   "source": [
    "import numpy as np\n",
    "import matplotlib.pyplot as plt\n",
    "%matplotlib inline\n",
    "import h5py as h5\n",
    "import scipy.constants as const\n",
    "from matplotlib.colors import LogNorm\n",
    "\n",
    "from picongpu.plugins.data import radiation\n",
    "\n"
   ]
  },
  {
   "cell_type": "code",
   "execution_count": null,
   "metadata": {
    "collapsed": true
   },
   "outputs": [],
   "source": [
    "path_to_sim = \"<pat_to_your_sim>\""
   ]
  },
  {
   "cell_type": "markdown",
   "metadata": {},
   "source": [
    "# Classical radiation:\n",
    "\n",
    "\n",
    "## High Harmonics Generation (HHG) \n"
   ]
  },
  {
   "cell_type": "code",
   "execution_count": null,
   "metadata": {
    "collapsed": false
   },
   "outputs": [],
   "source": [
    "# load radiation text data\n",
    "\n",
    "# select time step\n",
    "ts = 5000\n",
    "# load data\n",
    "rad_data = np.loadtxt(path_to_sim+\"/simOutput/<...>\".format(ts))"
   ]
  },
  {
   "cell_type": "code",
   "execution_count": null,
   "metadata": {
    "collapsed": true
   },
   "outputs": [],
   "source": [
    "# manually define frequency axis\n",
    "\n",
    "omega_rad = np.linspace(??, ??, 128) # in units of the laser frequency\n"
   ]
  },
  {
   "cell_type": "code",
   "execution_count": null,
   "metadata": {
    "collapsed": false
   },
   "outputs": [],
   "source": [
    "#plot spectrum:\n",
    "plt.figure()\n",
    "plt.plot(omega_rad, rad_data)\n",
    "\n",
    "# add lines for harmonics:\n",
    "plt.vlines(np.arange(10)+1, ymin=np.amin(rad_data), ymax=np.amax(rad_data), alpha=0.5)\n",
    "\n",
    "plt.yscale('log')\n",
    "\n",
    "plt.xlabel(r\"$\\omega_\\mathrm{rad} \\, \\mathrm{[\\omega_0]}$\", fontsize=18)\n",
    "plt.xticks(fontsize=14)\n",
    "\n",
    "plt.ylabel(r\"$\\frac{\\mathrm{d}^2I}{\\mathrm{d}\\omega \\mathrm{d} \\Omega} \\, \\mathrm{[Js]}$\", fontsize=18)\n",
    "plt.yticks(fontsize=14)\n",
    "\n",
    "plt.show()"
   ]
  },
  {
   "cell_type": "code",
   "execution_count": null,
   "metadata": {
    "collapsed": false
   },
   "outputs": [],
   "source": [
    "# plot radiation over time:\n",
    "\n",
    "# radiation dump steps (100, 200, 300, ..., 4900, 5000)\n",
    "rad_dump_timesteps = np.arange(100, 5000+1, 100)\n",
    "\n",
    "# create 2D array for all spectra\n",
    "spectrum_over_time = np.empty((len(rad_dump_timesteps), len(omega_rad)))\n",
    "\n",
    "# load spectra for each dump \n",
    "for i, ts in enumerate(rad_dump_timesteps):\n",
    "    spectrum_over_time[i, :] = np.loadtxt(path_to_sim+\"/simOutput/totalRad/e_radiation_{}.dat\".format(ts))\n"
   ]
  },
  {
   "cell_type": "code",
   "execution_count": null,
   "metadata": {
    "collapsed": false
   },
   "outputs": [],
   "source": [
    "#plot radiation over time\n",
    "\n",
    "# define the PIC time step\n",
    "delta_t = 9.20429e-18 # [s]\n",
    "\n",
    "\n",
    "plt.figure()\n",
    "plt.pcolormesh(omega_rad, # x-axis\n",
    "               rad_dump_timesteps * delta_t / 1e-15, # y-axis \n",
    "               spectrum_over_time, # 2D data set\n",
    "               norm=LogNorm(), vmin=1e-28)\n",
    "\n",
    "cb = plt.colorbar()\n",
    "\n",
    "plt.xlabel(r\"$\\omega_\\mathrm{rad} \\, \\mathrm{[\\omega_0]}$\", fontsize=18)\n",
    "plt.xticks(fontsize=14)\n",
    "\n",
    "plt.ylabel(r\"$t \\, \\mathrm{[fs]}$\", fontsize=18)\n",
    "plt.yticks(fontsize=14)\n",
    "\n",
    "cb.set_label(r\"$\\frac{\\mathrm{d}^2I}{\\mathrm{d}\\omega \\mathrm{d} \\Omega} \\, \\mathrm{[Js]}$\", fontsize=18)\n",
    "for i in cb.ax.get_yticklabels():\n",
    "    i.set_fontsize(14)\n",
    "\n",
    "plt.show()"
   ]
  },
  {
   "cell_type": "markdown",
   "metadata": {},
   "source": [
    "## Reading data with the radiation python module"
   ]
  },
  {
   "cell_type": "code",
   "execution_count": null,
   "metadata": {
    "collapsed": false
   },
   "outputs": [],
   "source": [
    "# select time step\n",
    "ts = 5000\n",
    "# load data with radiation module\n",
    "rad_hdf5_filename = path_to_sim+\"/simOutput/radiationHDF5/e_radAmplitudes_{}_0_0_0.h5\".format(ts)\n",
    "rad_data_viaModule = radiation.RadiationData(rad_hdf5_filename)"
   ]
  },
  {
   "cell_type": "code",
   "execution_count": null,
   "metadata": {
    "collapsed": false
   },
   "outputs": [],
   "source": [
    "# try to see what is in this class object by pressing tab tab\n",
    "rad_data_viaModule."
   ]
  },
  {
   "cell_type": "markdown",
   "metadata": {},
   "source": [
    "### Work in progress:\n",
    "\n",
    "**Ohhh no!!!**\n",
    "There is not yet an **easy to use method** to get the frequencies!\n",
    "See [issue #2759](https://github.com/ComputationalRadiationPhysics/picongpu/issues/2759)\n",
    "\n",
    "But they are in the hdf5 data - so let us try to extract them later."
   ]
  },
  {
   "cell_type": "code",
   "execution_count": null,
   "metadata": {
    "collapsed": false
   },
   "outputs": [],
   "source": [
    "#plot spectrum:\n",
    "plt.figure()\n",
    "plt.plot(omega_rad, rad_data_viaModule.get_Spectra()[0, :], label=\"all\", lw=2)\n",
    "plt.plot(omega_rad, rad_data_viaModule.get_Polarization_X()[0, :], \"--\", label=\"x-pol\")\n",
    "plt.plot(omega_rad, rad_data_viaModule.get_Polarization_Z()[0, :], \"--\", label=\"z-pol\")\n",
    "\n",
    "# add lines for harmonics:\n",
    "plt.vlines(np.arange(10)+1, ymin=1e-32, ymax=1e-22, alpha=0.5)\n",
    "\n",
    "plt.yscale('log')\n",
    "\n",
    "plt.xlabel(r\"$\\omega_\\mathrm{rad} \\, \\mathrm{[\\omega_0]}$\", fontsize=18)\n",
    "plt.xticks(fontsize=14)\n",
    "\n",
    "plt.ylabel(r\"$\\frac{\\mathrm{d}^2I}{\\mathrm{d}\\omega \\mathrm{d} \\Omega} \\, \\mathrm{[Js]}$\", fontsize=18)\n",
    "plt.yticks(fontsize=14)\n",
    "\n",
    "plt.legend(loc=4, fontsize=14)\n",
    "\n",
    "plt.show()"
   ]
  },
  {
   "cell_type": "markdown",
   "metadata": {},
   "source": [
    "... so now lets look for the frequency axis"
   ]
  },
  {
   "cell_type": "code",
   "execution_count": null,
   "metadata": {
    "collapsed": false
   },
   "outputs": [],
   "source": [
    "# access the hdf5 file via the module\n",
    "list(rad_data_viaModule.h5_file['/data/5000/DetectorMesh/DetectorFrequency/'].items())"
   ]
  },
  {
   "cell_type": "code",
   "execution_count": null,
   "metadata": {
    "collapsed": false
   },
   "outputs": [],
   "source": [
    "omega_rad_viaModule = (rad_data_viaModule.h5_file['/data/5000/DetectorMesh/DetectorFrequency/omega'][0, :, 0]\n",
    "                       * rad_data_viaModule.h5_file['/data/5000/DetectorMesh/DetectorFrequency/omega'].attrs['unitSI']\n",
    "                       )"
   ]
  },
  {
   "cell_type": "code",
   "execution_count": null,
   "metadata": {
    "collapsed": false
   },
   "outputs": [],
   "source": [
    "lambda_laser = 800.0e-9 # [m]\n",
    "omega_laser = 2.0 * np.pi * const.speed_of_light / lambda_laser\n",
    "\n",
    "plt.plot(omega_rad_viaModule/omega_laser, rad_data_viaModule.get_Polarization_X()[0, :])\n",
    "\n",
    "plt.xlabel(r\"$\\omega_\\mathrm{rad} \\, \\mathrm{[\\omega_0]}$\", fontsize=18)\n",
    "plt.xticks(fontsize=14)\n",
    "\n",
    "plt.ylabel(r\"$\\frac{\\mathrm{d}^2I}{\\mathrm{d}\\omega \\mathrm{d} \\Omega} \\, \\mathrm{[Js]}$\", fontsize=18)\n",
    "plt.yticks(fontsize=14)\n",
    "\n",
    "plt.ylim(0, 3e-24)\n",
    "\n",
    "plt.show()"
   ]
  },
  {
   "cell_type": "markdown",
   "metadata": {},
   "source": [
    "# Bremsstrahlung:\n",
    "## Reading the raw calorimeter data:\n",
    "\n",
    "There is currently no module for reading calorimeter data via a python module.\n",
    "You need to get your hands dirty by **reading openPMD flavored hdf5 data directly**.\n",
    "See [issue #2760](https://github.com/ComputationalRadiationPhysics/picongpu/issues/2760).\n",
    "\n",
    "However, everything you need can be found in the documentation:\n",
    "https://picongpu.readthedocs.io/en/0.4.0/usage/plugins/particleCalorimeter.html"
   ]
  },
  {
   "cell_type": "code",
   "execution_count": null,
   "metadata": {
    "collapsed": false
   },
   "outputs": [],
   "source": [
    "# select time step\n",
    "ts = 5000\n",
    "# load calorimeter data with h5py\n",
    "f_brems = h5.File(path_to_sim+\"/simOutput/ph_b_calorimeter/all/ph_b_calorimeter_bremsstrahlung_all_{}_0_0_0.h5\".format(ts))\n"
   ]
  },
  {
   "cell_type": "code",
   "execution_count": null,
   "metadata": {
    "collapsed": false
   },
   "outputs": [],
   "source": [
    "print(list(f_brems['/data/{}/'.format(ts)].items()))"
   ]
  },
  {
   "cell_type": "code",
   "execution_count": null,
   "metadata": {
    "collapsed": false
   },
   "outputs": [],
   "source": [
    "cal_brems_h = f_brems['/data/{}/calorimeter'.format(ts)]\n",
    "\n",
    "cal_brems_data = cal_brems_h[...] * cal_brems_h.attrs['unitSI']"
   ]
  },
  {
   "cell_type": "code",
   "execution_count": null,
   "metadata": {
    "collapsed": false
   },
   "outputs": [],
   "source": [
    "N_energy, N_yaw, N_pitch = np.shape(cal_brems_data)\n",
    "print(N_energy, N_yaw, N_pitch)"
   ]
  },
  {
   "cell_type": "code",
   "execution_count": null,
   "metadata": {
    "collapsed": false
   },
   "outputs": [],
   "source": [
    "for i in cal_brems_h.attrs.items():\n",
    "    print(i)"
   ]
  },
  {
   "cell_type": "code",
   "execution_count": null,
   "metadata": {
    "collapsed": true
   },
   "outputs": [],
   "source": [
    "yaw = np.linspace(cal_brems_h.attrs['posYaw[deg]'] - cal_brems_h.attrs['maxYaw[deg]'],\n",
    "                  cal_brems_h.attrs['posYaw[deg]'] + cal_brems_h.attrs['maxYaw[deg]'],\n",
    "                  N_yaw)\n",
    "\n",
    "pitch = np.linspace(cal_brems_h.attrs['posPitch[deg]'] - cal_brems_h.attrs['maxPitch[deg]'],\n",
    "                    cal_brems_h.attrs['posPitch[deg]'] + cal_brems_h.attrs['maxPitch[deg]'],\n",
    "                    N_pitch)\n",
    "\n",
    "energy = np.linspace(cal_brems_h.attrs['minEnergy[keV]'], \n",
    "                     cal_brems_h.attrs['maxEnergy[keV]'], \n",
    "                     N_energy)"
   ]
  },
  {
   "cell_type": "code",
   "execution_count": null,
   "metadata": {
    "collapsed": false
   },
   "outputs": [],
   "source": [
    "# spatial energy distribution\n",
    "# sum up the energy spectrum\n",
    "plt.pcolormesh(yaw, \n",
    "               pitch, \n",
    "               np.sum(cal_brems_data, axis=0))\n",
    "plt.xlabel(r\"$\\phi\\ \\mathrm{[^\\circ]}$\", fontsize=18)\n",
    "plt.xticks(fontsize=14)\n",
    "plt.ylabel(r\"$\\theta\\ \\mathrm{[^\\circ]}$\", fontsize=18)\n",
    "plt.yticks(fontsize=14)\n",
    "plt.show()\n",
    "\n",
    "# energy spectrum\n",
    "# sum up all solid angles\n",
    "plt.plot(energy / 1e3,\n",
    "         np.sum(cal_brems_data, axis=(1,2)))\n",
    "plt.xlabel(r\"$E_\\mathrm{photons}\\ \\mathrm{[MeV]}$\", fontsize=18)\n",
    "plt.xticks(fontsize=14)\n",
    "plt.ylabel(r\"$E_\\mathrm{cal} \\mathrm{[\\frac{J}{bin}]}$\", fontsize=18)\n",
    "plt.yticks(fontsize=14)\n",
    "plt.xlim(0,10)\n",
    "plt.show()"
   ]
  },
  {
   "cell_type": "code",
   "execution_count": null,
   "metadata": {
    "collapsed": false
   },
   "outputs": [],
   "source": [
    "f_brems.close()"
   ]
  },
  {
   "cell_type": "markdown",
   "metadata": {},
   "source": [
    "# Compton scattering:\n",
    "## Reading the raw calorimeter data:\n",
    "\n",
    "There is currently no module for reading calorimeter data via a python module.\n",
    "You need to get your hands dirty by **reading openPMD flavored hdf5 data directly**.\n",
    "See [issue #2760](https://github.com/ComputationalRadiationPhysics/picongpu/issues/2760).\n",
    "\n",
    "However, everything you need can be found in the documentation:\n",
    "https://picongpu.readthedocs.io/en/0.4.0/usage/plugins/particleCalorimeter.html\n",
    "\n",
    "**The same procedure as every year, James.**"
   ]
  },
  {
   "cell_type": "code",
   "execution_count": null,
   "metadata": {
    "collapsed": false
   },
   "outputs": [],
   "source": [
    "# select time step\n",
    "ts = 5000\n",
    "# load calorimeter data with h5py\n",
    "f_compton = h5.File(path_to_sim+\"/simOutput/ph_s_calorimeter/all/ph_s_calorimeter_compton_all_{}_0_0_0.h5\".format(ts))\n",
    "\n",
    "cal_compton_h = f_compton['/data/{}/calorimeter'.format(ts)]\n",
    "cal_compton_data = cal_compton_h[...] * cal_compton_h.attrs['unitSI']\n",
    "N_energy, N_yaw, N_pitch = np.shape(cal_compton_data)\n",
    "yaw = np.linspace(cal_compton_h.attrs['posYaw[deg]'] - cal_compton_h.attrs['maxYaw[deg]'],\n",
    "                  cal_compton_h.attrs['posYaw[deg]'] + cal_compton_h.attrs['maxYaw[deg]'],\n",
    "                  N_yaw)\n",
    "\n",
    "pitch = np.linspace(cal_compton_h.attrs['posPitch[deg]'] - cal_compton_h.attrs['maxPitch[deg]'],\n",
    "                    cal_compton_h.attrs['posPitch[deg]'] + cal_compton_h.attrs['maxPitch[deg]'],\n",
    "                    N_pitch)\n",
    "\n",
    "energy = np.linspace(cal_compton_h.attrs['minEnergy[keV]'], \n",
    "                     cal_compton_h.attrs['maxEnergy[keV]'], \n",
    "                     N_energy)\n",
    "\n",
    "# spatial energy distribution\n",
    "# sum up the energy spectrum\n",
    "plt.pcolormesh(yaw, \n",
    "               pitch, \n",
    "               np.sum(cal_compton_data, axis=0))\n",
    "plt.xlabel(r\"$\\phi\\ \\mathrm{[^\\circ]}$\", fontsize=18)\n",
    "plt.xticks(fontsize=14)\n",
    "plt.ylabel(r\"$\\theta\\ \\mathrm{[^\\circ]}$\", fontsize=18)\n",
    "plt.yticks(fontsize=14)\n",
    "plt.show()\n",
    "\n",
    "# energy spectrum\n",
    "# sum up all solid angles\n",
    "plt.plot(energy,\n",
    "         np.sum(cal_compton_data, axis=(1,2)))\n",
    "plt.xlabel(r\"$E_\\mathrm{photons}\\ \\mathrm{[keV]}$\", fontsize=18)\n",
    "plt.xticks(fontsize=14)\n",
    "plt.ylabel(r\"$E_\\mathrm{cal} \\mathrm{[\\frac{J}{bin}]}$\", fontsize=18)\n",
    "plt.yticks(fontsize=14)\n",
    "plt.yscale('log')\n",
    "plt.xlim(0, 100)\n",
    "plt.show()\n",
    "\n",
    "f_compton.close()"
   ]
  },
  {
   "cell_type": "markdown",
   "metadata": {},
   "source": [
    "# Probe Particles\n",
    "\n",
    "still some open issues:\n",
    "see [issue #2763](https://github.com/ComputationalRadiationPhysics/picongpu/issues/2763)\n",
    "\n",
    "Documentation: https://picongpu.readthedocs.io/en/0.4.0/usage/workflows/probeParticles.html"
   ]
  },
  {
   "cell_type": "code",
   "execution_count": null,
   "metadata": {
    "collapsed": false
   },
   "outputs": [],
   "source": [
    "# select time step\n",
    "ts = 2500\n",
    "# load calorimeter data with h5py\n",
    "f_probe = h5.File(path_to_sim+\"/simOutput/h5/simData_{}.h5\".format(ts), \"r\")\n",
    "\n",
    "print(list(f_probe['/data/{}/particles/probe'.format(ts)].items()))\n",
    "\n",
    "probe_h = f_probe['/data/{}/particles/probe'.format(ts)]\n",
    "\n",
    "pos_probe_y = probe_h[\"positionOffset/y\"][:] + probe_h[\"position/y\"][:]\n",
    "pos_probe_Ex = probe_h['probeE/x'][:] * probe_h['probeE/x'].attrs['unitSI']\n",
    "\n",
    "\n",
    "f_probe.close()"
   ]
  },
  {
   "cell_type": "code",
   "execution_count": null,
   "metadata": {
    "collapsed": false
   },
   "outputs": [],
   "source": [
    "plt.plot(pos_probe_y, pos_probe_Ex)\n",
    "\n",
    "plt.xlabel(\"y [cells]\", fontsize=18)\n",
    "plt.xticks(fontsize=14)\n",
    "\n",
    "plt.ylabel(r\"$E_x \\, \\mathrm{[V/m]}$\", fontsize=18)\n",
    "plt.yticks(fontsize=14)\n",
    "\n",
    "plt.show()"
   ]
  },
  {
   "cell_type": "code",
   "execution_count": null,
   "metadata": {
    "collapsed": false
   },
   "outputs": [],
   "source": [
    "plt.hist2d(pos_probe_y, pos_probe_Ex, bins=(512, 256))\n",
    "\n",
    "plt.xlabel(\"y [cells]\", fontsize=18)\n",
    "plt.xticks(fontsize=14)\n",
    "\n",
    "plt.ylabel(r\"$E_x \\, \\mathrm{[V/m]}$\", fontsize=18)\n",
    "plt.yticks(fontsize=14)\n",
    "plt.show()"
   ]
  },
  {
   "cell_type": "code",
   "execution_count": null,
   "metadata": {
    "collapsed": false
   },
   "outputs": [],
   "source": [
    "sorted_output = np.array(sorted(zip(pos_probe_y,pos_probe_Ex)))\n",
    "print(np.shape(sorted_output))\n",
    "\n",
    "plt.plot(sorted_output[:, 0], sorted_output[:, 1])\n",
    "\n",
    "plt.xlabel(\"y [cells]\", fontsize=18)\n",
    "plt.xticks(fontsize=14)\n",
    "\n",
    "plt.ylabel(r\"$E_x \\, \\mathrm{[V/m]}$\", fontsize=18)\n",
    "plt.yticks(fontsize=14)\n",
    "\n",
    "plt.show()"
   ]
  },
  {
   "cell_type": "markdown",
   "metadata": {},
   "source": [
    "# Tracer Particles\n",
    "\n",
    "Documentation: https://picongpu.readthedocs.io/en/0.4.0/usage/workflows/tracerParticles.html"
   ]
  },
  {
   "cell_type": "code",
   "execution_count": null,
   "metadata": {
    "collapsed": false
   },
   "outputs": [],
   "source": [
    "# select time step\n",
    "ts = 2500\n",
    "# load calorimeter data with h5py\n",
    "f_trace = h5.File(path_to_sim+\"/simOutput/h5/simData_{}.h5\".format(ts), \"r\")\n",
    "\n",
    "for i in f_trace['/data/{}/particles/trace'.format(ts)].items():\n",
    "    print(i)\n",
    "    \n",
    "print(\"----\")\n",
    "\n",
    "for i in f_trace['/data/{}/particles/trace/'.format(ts)].attrs.items():\n",
    "    print(i)\n",
    "f_trace.close()"
   ]
  },
  {
   "cell_type": "code",
   "execution_count": null,
   "metadata": {
    "collapsed": false
   },
   "outputs": [],
   "source": [
    "all_h5_ts = np.arange(100, 5000+1, 100)\n",
    "\n",
    "time = np.zeros(len(all_h5_ts))\n",
    "pos_x = np.zeros(len(all_h5_ts))\n",
    "pos_y = np.zeros(len(all_h5_ts))\n",
    "\n",
    "\n",
    "for i, ts in enumerate(all_h5_ts):\n",
    "    f_trace = h5.File(path_to_sim+\"/simOutput/h5/simData_{}.h5\".format(ts), \"r\")\n",
    "    time[i] = ts\n",
    "    pos_x[i] = (f_trace['/data/{}/particles/trace/positionOffset/x'.format(ts)][:] +\n",
    "                f_trace['/data/{}/particles/trace/position/x'.format(ts)][:])    \n",
    "    pos_y[i] = (f_trace['/data/{}/particles/trace/positionOffset/y'.format(ts)][:] +\n",
    "                f_trace['/data/{}/particles/trace/position/y'.format(ts)][:])"
   ]
  },
  {
   "cell_type": "code",
   "execution_count": null,
   "metadata": {
    "collapsed": false
   },
   "outputs": [],
   "source": [
    "plt.plot(time, pos_x, label=\"x\")\n",
    "plt.plot(time, pos_y, label=\"y\")\n",
    "\n",
    "plt.xlabel(\"t [time steps]\", fontsize=18)\n",
    "plt.xticks(fontsize=14)\n",
    "\n",
    "plt.ylabel(\"position [cells]\", fontsize=18)\n",
    "plt.yticks(fontsize=14)\n",
    "\n",
    "plt.legend(loc=2, fontsize=14)\n",
    "\n",
    "plt.show()"
   ]
  },
  {
   "cell_type": "code",
   "execution_count": null,
   "metadata": {
    "collapsed": false
   },
   "outputs": [],
   "source": [
    "plt.plot(pos_y, pos_x)\n",
    "\n",
    "plt.xlabel(\"y [cells]\", fontsize=18)\n",
    "plt.xticks(fontsize=14)\n",
    "\n",
    "plt.ylabel(\"x [cells]\", fontsize=18)\n",
    "plt.yticks(fontsize=14)\n",
    "\n",
    "plt.show()"
   ]
  },
  {
   "cell_type": "code",
   "execution_count": null,
   "metadata": {
    "collapsed": false
   },
   "outputs": [],
   "source": []
  },
  {
   "cell_type": "code",
   "execution_count": null,
   "metadata": {
    "collapsed": true
   },
   "outputs": [],
   "source": []
  }
 ],
 "metadata": {
  "kernelspec": {
   "display_name": "Python 3",
   "language": "python",
   "name": "python3"
  },
  "language_info": {
   "codemirror_mode": {
    "name": "ipython",
    "version": 3
   },
   "file_extension": ".py",
   "mimetype": "text/x-python",
   "name": "python",
   "nbconvert_exporter": "python",
   "pygments_lexer": "ipython3",
   "version": "3.4.3"
  }
 },
 "nbformat": 4,
 "nbformat_minor": 2
}
